{
  "nbformat": 4,
  "nbformat_minor": 0,
  "metadata": {
    "colab": {
      "provenance": [],
      "authorship_tag": "ABX9TyPuEmoWsQnh6XShjhQUqUzF",
      "include_colab_link": true
    },
    "kernelspec": {
      "name": "python3",
      "display_name": "Python 3"
    },
    "language_info": {
      "name": "python"
    }
  },
  "cells": [
    {
      "cell_type": "markdown",
      "metadata": {
        "id": "view-in-github",
        "colab_type": "text"
      },
      "source": [
        "<a href=\"https://colab.research.google.com/github/pu2-source/MSSP607/blob/main/participation3.ipynb\" target=\"_parent\"><img src=\"https://colab.research.google.com/assets/colab-badge.svg\" alt=\"Open In Colab\"/></a>"
      ]
    },
    {
      "cell_type": "code",
      "execution_count": null,
      "metadata": {
        "id": "UT9V9orC8uvB"
      },
      "outputs": [],
      "source": []
    },
    {
      "cell_type": "markdown",
      "source": [
        "3. a. when the function is called\n",
        "   \n",
        "   b. There is only 1 global scope, but there can be many local scopes if you define them\n",
        "  \n",
        "   c. The variables in a local scope are evaluated within that function, but outside the function they are destroyed.\n",
        "\n",
        "   d. Use \"try\" function and put potential errors after \"except.\"\n",
        "\n"
      ],
      "metadata": {
        "id": "Z8rpXkZ88vuw"
      }
    },
    {
      "cell_type": "code",
      "source": [
        "def collatz(number):\n",
        "    if number % 2 == 0:\n",
        "        result = number // 2\n",
        "    else:\n",
        "        result = 3 * number + 1\n",
        "\n",
        "\n",
        "    return(result)\n",
        "\n"
      ],
      "metadata": {
        "id": "QmlYHZN0_H5E"
      },
      "execution_count": 13,
      "outputs": []
    },
    {
      "cell_type": "code",
      "source": [
        "def prog():\n",
        "    input1 = int(input(\"Please type in an integer\"))\n",
        "    while input1 != 1:\n",
        "        collatz(input1)\n",
        "\n",
        "        input1 = collatz(input1)\n",
        "        print(input1)\n",
        "\n",
        "prog()"
      ],
      "metadata": {
        "colab": {
          "base_uri": "https://localhost:8080/"
        },
        "id": "EN_DSdmNDLSX",
        "outputId": "a4d87bdd-71a5-4c5b-8745-cd29b89bb834"
      },
      "execution_count": 15,
      "outputs": [
        {
          "output_type": "stream",
          "name": "stdout",
          "text": [
            "Please type in an integer7\n",
            "22\n",
            "11\n",
            "34\n",
            "17\n",
            "52\n",
            "26\n",
            "13\n",
            "40\n",
            "20\n",
            "10\n",
            "5\n",
            "16\n",
            "8\n",
            "4\n",
            "2\n",
            "1\n"
          ]
        }
      ]
    }
  ]
}