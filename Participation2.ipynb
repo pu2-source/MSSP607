{
  "nbformat": 4,
  "nbformat_minor": 0,
  "metadata": {
    "colab": {
      "provenance": [],
      "authorship_tag": "ABX9TyMCFSkD2G/Da94wSMxDKpo1",
      "include_colab_link": true
    },
    "kernelspec": {
      "name": "python3",
      "display_name": "Python 3"
    },
    "language_info": {
      "name": "python"
    }
  },
  "cells": [
    {
      "cell_type": "markdown",
      "metadata": {
        "id": "view-in-github",
        "colab_type": "text"
      },
      "source": [
        "<a href=\"https://colab.research.google.com/github/pu2-source/MSSP607/blob/main/Participation2.ipynb\" target=\"_parent\"><img src=\"https://colab.research.google.com/assets/colab-badge.svg\" alt=\"Open In Colab\"/></a>"
      ]
    },
    {
      "cell_type": "code",
      "execution_count": 1,
      "metadata": {
        "id": "Gat0hEqPnSKa",
        "colab": {
          "base_uri": "https://localhost:8080/"
        },
        "outputId": "8c0de53d-1b52-42e8-987e-06cdecf304aa"
      },
      "outputs": [
        {
          "output_type": "execute_result",
          "data": {
            "text/plain": [
              "[2, 4, 'hello', 8, 10]"
            ]
          },
          "metadata": {},
          "execution_count": 1
        }
      ],
      "source": [
        "spam = [2, 4, 6, 8, 10]\n",
        "spam[2] = 'hello'\n",
        "spam"
      ]
    },
    {
      "cell_type": "code",
      "source": [
        "letters = ['a',  'b',  'c', 'd']\n",
        "letters[int(int('3'*2)//11)]\n"
      ],
      "metadata": {
        "colab": {
          "base_uri": "https://localhost:8080/",
          "height": 35
        },
        "id": "TjzBjiJHnQI_",
        "outputId": "30f28e25-b21a-4af7-d158-e6a4780b06ad"
      },
      "execution_count": 7,
      "outputs": [
        {
          "output_type": "execute_result",
          "data": {
            "text/plain": [
              "'d'"
            ],
            "application/vnd.google.colaboratory.intrinsic+json": {
              "type": "string"
            }
          },
          "metadata": {},
          "execution_count": 7
        }
      ]
    },
    {
      "cell_type": "code",
      "source": [
        "letters = ['a',  'b',  'c', 'd']\n",
        "letters[-1]\n"
      ],
      "metadata": {
        "colab": {
          "base_uri": "https://localhost:8080/",
          "height": 35
        },
        "id": "deXsWXX5njCM",
        "outputId": "f92d232e-a640-493e-c837-f1b10ccf56ca"
      },
      "execution_count": 10,
      "outputs": [
        {
          "output_type": "execute_result",
          "data": {
            "text/plain": [
              "'d'"
            ],
            "application/vnd.google.colaboratory.intrinsic+json": {
              "type": "string"
            }
          },
          "metadata": {},
          "execution_count": 10
        }
      ]
    },
    {
      "cell_type": "markdown",
      "source": [
        "'3'*2 is 33, and 33//11 is 3. The fourth object in \"letters\" is \"d.\"\n",
        "letters[-1] is the last object, which is 'd.'"
      ],
      "metadata": {
        "id": "BbURVQt4ntKG"
      }
    },
    {
      "cell_type": "code",
      "source": [
        "letters[:2]"
      ],
      "metadata": {
        "colab": {
          "base_uri": "https://localhost:8080/"
        },
        "id": "8mCI7ifBoPsW",
        "outputId": "e521a73c-9125-4ebd-954d-d43e54d6a907"
      },
      "execution_count": 11,
      "outputs": [
        {
          "output_type": "execute_result",
          "data": {
            "text/plain": [
              "['a', 'b']"
            ]
          },
          "metadata": {},
          "execution_count": 11
        }
      ]
    },
    {
      "cell_type": "markdown",
      "source": [
        "This gives the first two objects."
      ],
      "metadata": {
        "id": "2eONIN0ZoYEQ"
      }
    },
    {
      "cell_type": "code",
      "source": [
        "tuple(letters)"
      ],
      "metadata": {
        "colab": {
          "base_uri": "https://localhost:8080/"
        },
        "id": "XpM0FL9cooY9",
        "outputId": "252d182c-c593-4a10-baf1-87cc9de62970"
      },
      "execution_count": 12,
      "outputs": [
        {
          "output_type": "execute_result",
          "data": {
            "text/plain": [
              "('a', 'b', 'c', 'd')"
            ]
          },
          "metadata": {},
          "execution_count": 12
        }
      ]
    },
    {
      "cell_type": "code",
      "source": [
        "list(letters)"
      ],
      "metadata": {
        "colab": {
          "base_uri": "https://localhost:8080/"
        },
        "id": "PHHwGktlouz6",
        "outputId": "93d11b3a-aeef-4f0b-8f10-a63d3ef5e4d3"
      },
      "execution_count": 13,
      "outputs": [
        {
          "output_type": "execute_result",
          "data": {
            "text/plain": [
              "['a', 'b', 'c', 'd']"
            ]
          },
          "metadata": {},
          "execution_count": 13
        }
      ]
    },
    {
      "cell_type": "code",
      "source": [
        "spam = ['apples', 'bananas', 'tofu', 'cats']\n",
        "def comma(spam):\n",
        "  print((spam), sep=',')\n",
        "\n",
        "comma(spam)\n",
        "\n",
        "def plusand(spam):\n",
        "  return \", \".join(spam[:-1]) + \" and \" + spam[-1]\n",
        "\n",
        "plusand(spam)"
      ],
      "metadata": {
        "colab": {
          "base_uri": "https://localhost:8080/",
          "height": 53
        },
        "id": "G-LBNkC9o72J",
        "outputId": "02254d40-a1d5-4edf-d790-0fa7e3eeaf09"
      },
      "execution_count": 33,
      "outputs": [
        {
          "output_type": "stream",
          "name": "stdout",
          "text": [
            "['apples', 'bananas', 'tofu', 'cats']\n"
          ]
        },
        {
          "output_type": "execute_result",
          "data": {
            "text/plain": [
              "'apples, bananas, tofu and cats'"
            ],
            "application/vnd.google.colaboratory.intrinsic+json": {
              "type": "string"
            }
          },
          "metadata": {},
          "execution_count": 33
        }
      ]
    }
  ]
}