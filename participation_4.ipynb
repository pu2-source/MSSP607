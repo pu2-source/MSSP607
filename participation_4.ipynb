{
  "nbformat": 4,
  "nbformat_minor": 0,
  "metadata": {
    "colab": {
      "provenance": [],
      "authorship_tag": "ABX9TyOZUMvK2aX9DVWKEse4Toy5",
      "include_colab_link": true
    },
    "kernelspec": {
      "name": "python3",
      "display_name": "Python 3"
    },
    "language_info": {
      "name": "python"
    }
  },
  "cells": [
    {
      "cell_type": "markdown",
      "metadata": {
        "id": "view-in-github",
        "colab_type": "text"
      },
      "source": [
        "<a href=\"https://colab.research.google.com/github/pu2-source/MSSP607/blob/main/participation_4.ipynb\" target=\"_parent\"><img src=\"https://colab.research.google.com/assets/colab-badge.svg\" alt=\"Open In Colab\"/></a>"
      ]
    },
    {
      "cell_type": "code",
      "source": [
        "from google.colab import drive\n",
        "drive.mount('/content/drive')\n",
        "\n"
      ],
      "metadata": {
        "colab": {
          "base_uri": "https://localhost:8080/"
        },
        "id": "D2mCHKboogUs",
        "outputId": "61e404d3-4f92-4b7b-da11-cd15fad7d681"
      },
      "execution_count": 5,
      "outputs": [
        {
          "output_type": "stream",
          "name": "stdout",
          "text": [
            "Mounted at /content/drive\n"
          ]
        }
      ]
    },
    {
      "cell_type": "code",
      "source": [
        "import pandas as pd\n",
        "df = pd.read_csv('/content/drive/My Drive/parsed.csv')\n",
        "japanqk = df[(df['parsed_place'].str.contains('Japan')) & (df['magType'] == 'mb')]\n",
        "\n",
        "japanqk['mag'].quantile(0.95)"
      ],
      "metadata": {
        "colab": {
          "base_uri": "https://localhost:8080/"
        },
        "id": "yw0Zp9y8pTR0",
        "outputId": "dcdbb969-fe4b-48af-b6ec-567a04a87aa8"
      },
      "execution_count": 6,
      "outputs": [
        {
          "output_type": "execute_result",
          "data": {
            "text/plain": [
              "np.float64(4.9)"
            ]
          },
          "metadata": {},
          "execution_count": 6
        }
      ]
    },
    {
      "cell_type": "code",
      "source": [
        "indonesiaqk = df[df['parsed_place'].str.contains('Indonesia', na=False)]\n",
        "indonesiatsu = indonesiaqk[indonesiaqk['tsunami'] == 1]\n",
        "len(indonesiatsu) / len(indonesiaqk) * 100"
      ],
      "metadata": {
        "colab": {
          "base_uri": "https://localhost:8080/"
        },
        "id": "D-67uMzNxskb",
        "outputId": "dddd118e-68f4-4a4b-c4a1-850a83e6bedc"
      },
      "execution_count": null,
      "outputs": [
        {
          "output_type": "execute_result",
          "data": {
            "text/plain": [
              "23.12925170068027"
            ]
          },
          "metadata": {},
          "execution_count": 27
        }
      ]
    },
    {
      "cell_type": "code",
      "source": [
        "nevadaqk = df[df['parsed_place'].str.contains('Nevada', na=False)]\n",
        "summary = nevadaqk.describe()\n",
        "print(summary)"
      ],
      "metadata": {
        "colab": {
          "base_uri": "https://localhost:8080/"
        },
        "id": "2fVK0MmM0b7v",
        "outputId": "227d87aa-f6c8-4d73-dfaa-dccf73bbb9e2"
      },
      "execution_count": null,
      "outputs": [
        {
          "output_type": "stream",
          "name": "stdout",
          "text": [
            "             cdi        dmin       felt         gap         mag   mmi  \\\n",
            "count  15.000000  681.000000  15.000000  681.000000  681.000000  1.00   \n",
            "mean    2.440000    0.166199   2.400000  153.668120    0.500073  2.84   \n",
            "std     0.501142    0.166228   4.626013   68.735302    0.696710   NaN   \n",
            "min     2.000000    0.001000   1.000000   29.140000   -0.500000  2.84   \n",
            "25%     2.000000    0.053000   1.000000   97.380000   -0.100000  2.84   \n",
            "50%     2.200000    0.112000   1.000000  149.140000    0.400000  2.84   \n",
            "75%     2.900000    0.233000   1.000000  199.720000    0.900000  2.84   \n",
            "max     3.300000    1.414000  19.000000  355.910000    2.900000  2.84   \n",
            "\n",
            "              nst         rms         sig          time  tsunami     tz  \\\n",
            "count  681.000000  681.000000  681.000000  6.810000e+02    681.0  681.0   \n",
            "mean    12.618209    0.151986   10.970631  1.538314e+12      0.0 -480.0   \n",
            "std      9.866963    0.084662   19.607150  5.965637e+08      0.0    0.0   \n",
            "min      3.000000    0.000500    0.000000  1.537247e+12      0.0 -480.0   \n",
            "25%      6.000000    0.106900    0.000000  1.537854e+12      0.0 -480.0   \n",
            "50%     10.000000    0.146300    2.000000  1.538280e+12      0.0 -480.0   \n",
            "75%     16.000000    0.187100   12.000000  1.538821e+12      0.0 -480.0   \n",
            "max     61.000000    0.863400  129.000000  1.539461e+12      0.0 -480.0   \n",
            "\n",
            "            updated  \n",
            "count  6.810000e+02  \n",
            "mean   1.538402e+12  \n",
            "std    6.010951e+08  \n",
            "min    1.537307e+12  \n",
            "25%    1.537928e+12  \n",
            "50%    1.538428e+12  \n",
            "75%    1.538878e+12  \n",
            "max    1.539483e+12  \n"
          ]
        }
      ]
    },
    {
      "cell_type": "code",
      "source": [
        "def ring(place):\n",
        "  if any (country in place for country in ['Bolivia', 'Chile', 'Ecuador', 'Peru', 'Costa Rica', 'Guatemala', 'Mexico', 'Japan', 'Philippines', 'Indonesia', 'New Zealand', 'Antarctica' , 'Canada', 'Fiji', 'Alaska', 'Washington', 'California', 'Russia', 'Taiwan', 'Tonga', 'Kermadec Islands']):\n",
        "    return True\n",
        "  else : return False\n",
        "\n",
        "df['ringfire'] = df['parsed_place'].apply(ring)"
      ],
      "metadata": {
        "id": "0xKEGf3V0ki9"
      },
      "execution_count": 7,
      "outputs": []
    },
    {
      "cell_type": "code",
      "source": [
        "df['ringfire'].value_counts()"
      ],
      "metadata": {
        "colab": {
          "base_uri": "https://localhost:8080/",
          "height": 178
        },
        "id": "CJHchiPI1iPb",
        "outputId": "a0140515-3194-4a30-9dec-fbeac08ce41b"
      },
      "execution_count": 12,
      "outputs": [
        {
          "output_type": "execute_result",
          "data": {
            "text/plain": [
              "ringfire\n",
              "True     7185\n",
              "False    2147\n",
              "Name: count, dtype: int64"
            ],
            "text/html": [
              "<div>\n",
              "<style scoped>\n",
              "    .dataframe tbody tr th:only-of-type {\n",
              "        vertical-align: middle;\n",
              "    }\n",
              "\n",
              "    .dataframe tbody tr th {\n",
              "        vertical-align: top;\n",
              "    }\n",
              "\n",
              "    .dataframe thead th {\n",
              "        text-align: right;\n",
              "    }\n",
              "</style>\n",
              "<table border=\"1\" class=\"dataframe\">\n",
              "  <thead>\n",
              "    <tr style=\"text-align: right;\">\n",
              "      <th></th>\n",
              "      <th>count</th>\n",
              "    </tr>\n",
              "    <tr>\n",
              "      <th>ringfire</th>\n",
              "      <th></th>\n",
              "    </tr>\n",
              "  </thead>\n",
              "  <tbody>\n",
              "    <tr>\n",
              "      <th>True</th>\n",
              "      <td>7185</td>\n",
              "    </tr>\n",
              "    <tr>\n",
              "      <th>False</th>\n",
              "      <td>2147</td>\n",
              "    </tr>\n",
              "  </tbody>\n",
              "</table>\n",
              "</div><br><label><b>dtype:</b> int64</label>"
            ]
          },
          "metadata": {},
          "execution_count": 12
        }
      ]
    }
  ]
}