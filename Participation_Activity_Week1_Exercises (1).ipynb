{
  "cells": [
    {
      "cell_type": "markdown",
      "metadata": {
        "id": "w8IUdZCDtL4P"
      },
      "source": [
        "# Coding exercises\n",
        "Exercises 1-3 are thought exercises that don't require coding.\n",
        "\n",
        "1. Explore the Jupyter Lab interface and look at some of the shortcuts available. Don't worry about memorizing them now (eventually they will become second nature and save you a lot of time), just get comfortable using notebooks.\n",
        "\n",
        "2. Are all data normally distributed?\n",
        "Not all data are normally distributed. Some data are skewed and some have outliers.\n",
        "\n",
        "3. When would it make more sense to use the median instead of the mean for the measure of center?\n",
        "When the data have extreme outliers."
      ]
    },
    {
      "cell_type": "markdown",
      "metadata": {
        "id": "Hk-jGlOCtL4R"
      },
      "source": [
        "## Exercise 4: Generate the data by running this cell\n",
        "This will give you a list of numbers to work with in the remaining exercises."
      ]
    },
    {
      "cell_type": "code",
      "execution_count": 1,
      "metadata": {
        "colab": {
          "base_uri": "https://localhost:8080/"
        },
        "id": "Xen4M0jmtL4R",
        "outputId": "a1af6131-e704-41e1-97ff-78883587c997"
      },
      "outputs": [
        {
          "output_type": "stream",
          "name": "stdout",
          "text": [
            "[844000.0, 758000.0, 421000.0, 259000.0, 511000.0, 405000.0, 784000.0, 303000.0, 477000.0, 583000.0, 908000.0, 505000.0, 282000.0, 756000.0, 618000.0, 251000.0, 910000.0, 983000.0, 810000.0, 902000.0, 310000.0, 730000.0, 899000.0, 684000.0, 472000.0, 101000.0, 434000.0, 611000.0, 913000.0, 967000.0, 477000.0, 865000.0, 260000.0, 805000.0, 549000.0, 14000.0, 720000.0, 399000.0, 825000.0, 668000.0, 1000.0, 494000.0, 868000.0, 244000.0, 325000.0, 870000.0, 191000.0, 568000.0, 239000.0, 968000.0, 803000.0, 448000.0, 80000.0, 320000.0, 508000.0, 933000.0, 109000.0, 551000.0, 707000.0, 547000.0, 814000.0, 540000.0, 964000.0, 603000.0, 588000.0, 445000.0, 596000.0, 385000.0, 576000.0, 290000.0, 189000.0, 187000.0, 613000.0, 657000.0, 477000.0, 90000.0, 758000.0, 877000.0, 923000.0, 842000.0, 898000.0, 923000.0, 541000.0, 391000.0, 705000.0, 276000.0, 812000.0, 849000.0, 895000.0, 590000.0, 950000.0, 580000.0, 451000.0, 660000.0, 996000.0, 917000.0, 793000.0, 82000.0, 613000.0, 486000.0]\n"
          ]
        }
      ],
      "source": [
        "import random\n",
        "random.seed(0)\n",
        "salaries = [round(random.random()*1000000, -3) for _ in range(100)]\n",
        "print(list(salaries))"
      ]
    },
    {
      "cell_type": "markdown",
      "metadata": {
        "id": "hIw6IfibtL4R"
      },
      "source": [
        "## Exercise 5: Calculating statistics and verifying\n",
        "\n",
        "Use the data generated above to calulate in code the following statistics without importing the statistics module. Then use the statistics module to verify your results.  Import the statistics module from https://docs.python.org/3/library/statistics.html\n",
        "\n",
        "### mean"
      ]
    },
    {
      "cell_type": "code",
      "execution_count": 3,
      "metadata": {
        "colab": {
          "base_uri": "https://localhost:8080/"
        },
        "id": "tVkyGYL0tL4R",
        "outputId": "109c5848-2819-4b29-fc5c-06ee4dae67eb"
      },
      "outputs": [
        {
          "output_type": "execute_result",
          "data": {
            "text/plain": [
              "585690.0"
            ]
          },
          "metadata": {},
          "execution_count": 3
        }
      ],
      "source": [
        "\n",
        "mean(salaries)"
      ]
    },
    {
      "cell_type": "markdown",
      "metadata": {
        "id": "x80ljNsStL4S"
      },
      "source": [
        "### median"
      ]
    },
    {
      "cell_type": "code",
      "execution_count": 4,
      "metadata": {
        "colab": {
          "base_uri": "https://localhost:8080/"
        },
        "id": "sevGpPo3tL4S",
        "outputId": "70bd54f2-9692-42e2-fc53-f0dd6820584e"
      },
      "outputs": [
        {
          "output_type": "execute_result",
          "data": {
            "text/plain": [
              "589000.0"
            ]
          },
          "metadata": {},
          "execution_count": 4
        }
      ],
      "source": [
        "from statistics import median\n",
        "median(salaries)\n"
      ]
    },
    {
      "cell_type": "markdown",
      "metadata": {
        "id": "um0eRPoVtL4S"
      },
      "source": [
        "### mode"
      ]
    },
    {
      "cell_type": "code",
      "execution_count": 7,
      "metadata": {
        "colab": {
          "base_uri": "https://localhost:8080/"
        },
        "id": "z055iDN8tL4S",
        "outputId": "aaf8ca41-1cd5-4a25-d49b-1a0145d5638e"
      },
      "outputs": [
        {
          "output_type": "execute_result",
          "data": {
            "text/plain": [
              "477000.0"
            ]
          },
          "metadata": {},
          "execution_count": 7
        }
      ],
      "source": [
        "from statistics import mode\n",
        "mode(salaries)"
      ]
    },
    {
      "cell_type": "markdown",
      "metadata": {
        "id": "FCx4jEHltL4S"
      },
      "source": [
        "### sample variance\n",
        "Remember to use Bessel's correction."
      ]
    },
    {
      "cell_type": "code",
      "execution_count": 8,
      "metadata": {
        "colab": {
          "base_uri": "https://localhost:8080/"
        },
        "id": "HFFt9vOUtL4S",
        "outputId": "d3d410d8-9231-4c36-e36f-74df88c0ed2c"
      },
      "outputs": [
        {
          "output_type": "execute_result",
          "data": {
            "text/plain": [
              "70664054444.44444"
            ]
          },
          "metadata": {},
          "execution_count": 8
        }
      ],
      "source": [
        "from statistics import variance\n",
        "variance(salaries)"
      ]
    },
    {
      "cell_type": "markdown",
      "metadata": {
        "id": "RzyBPhI9tL4S"
      },
      "source": [
        "### sample standard deviation\n",
        "Remember to use Bessel's correction."
      ]
    },
    {
      "cell_type": "code",
      "execution_count": 9,
      "metadata": {
        "colab": {
          "base_uri": "https://localhost:8080/"
        },
        "id": "SZsM8TdstL4S",
        "outputId": "01b2cd25-65fb-4a3f-d14a-e5c6ed9e16b7"
      },
      "outputs": [
        {
          "output_type": "execute_result",
          "data": {
            "text/plain": [
              "265827.11382484"
            ]
          },
          "metadata": {},
          "execution_count": 9
        }
      ],
      "source": [
        "from statistics import stdev\n",
        "stdev(salaries)"
      ]
    },
    {
      "cell_type": "markdown",
      "metadata": {
        "id": "peD1BJAbtL4S"
      },
      "source": [
        "## Exercise 6: Calculating more statistics\n",
        "### range"
      ]
    },
    {
      "cell_type": "code",
      "execution_count": 10,
      "metadata": {
        "colab": {
          "base_uri": "https://localhost:8080/"
        },
        "id": "3-Gvl8cDtL4S",
        "outputId": "8badada7-6917-4008-eb7b-da7708d13444"
      },
      "outputs": [
        {
          "output_type": "execute_result",
          "data": {
            "text/plain": [
              "995000.0"
            ]
          },
          "metadata": {},
          "execution_count": 10
        }
      ],
      "source": [
        "max(salaries) - min(salaries)"
      ]
    },
    {
      "cell_type": "markdown",
      "metadata": {
        "id": "OvpSwuR8tL4S"
      },
      "source": [
        "### coefficient of variation"
      ]
    },
    {
      "cell_type": "code",
      "execution_count": 11,
      "metadata": {
        "colab": {
          "base_uri": "https://localhost:8080/"
        },
        "id": "m1REuekktL4S",
        "outputId": "9f40c7a1-6f3a-4df0-9212-63a222ec7402"
      },
      "outputs": [
        {
          "output_type": "execute_result",
          "data": {
            "text/plain": [
              "0.45386998894439035"
            ]
          },
          "metadata": {},
          "execution_count": 11
        }
      ],
      "source": [
        "stdev(salaries)/mean(salaries)\n"
      ]
    },
    {
      "cell_type": "markdown",
      "metadata": {
        "id": "91qHiVgQtL4T"
      },
      "source": [
        "### interquartile range"
      ]
    },
    {
      "cell_type": "code",
      "execution_count": null,
      "metadata": {
        "id": "_YdR31zGtL4T"
      },
      "outputs": [],
      "source": [
        "sorted(salaries)\n"
      ]
    },
    {
      "cell_type": "markdown",
      "metadata": {
        "id": "VThOePO0tL4T"
      },
      "source": [
        "### quartile coefficent of dispersion"
      ]
    },
    {
      "cell_type": "code",
      "execution_count": 12,
      "metadata": {
        "colab": {
          "base_uri": "https://localhost:8080/"
        },
        "id": "LW3BdsYktL4T",
        "outputId": "398806a3-619b-40b6-e77c-a455a33d2158"
      },
      "outputs": [
        {
          "output_type": "execute_result",
          "data": {
            "text/plain": [
              "995000.0"
            ]
          },
          "metadata": {},
          "execution_count": 12
        }
      ],
      "source": [
        "max(salaries)-min(salaries)\n"
      ]
    },
    {
      "cell_type": "markdown",
      "metadata": {
        "id": "IXVqyJ5otL4T"
      },
      "source": [
        "## Exercise 7: Scaling data\n",
        "### min-max scaling"
      ]
    },
    {
      "cell_type": "code",
      "execution_count": 13,
      "metadata": {
        "colab": {
          "base_uri": "https://localhost:8080/"
        },
        "id": "mkTS_JQbtL4T",
        "outputId": "dc9fbdca-647e-49f9-8d2f-369a1bc9c18d"
      },
      "outputs": [
        {
          "output_type": "execute_result",
          "data": {
            "text/plain": [
              "995000.0"
            ]
          },
          "metadata": {},
          "execution_count": 13
        }
      ],
      "source": [
        "max(salaries)-min(salaries)"
      ]
    },
    {
      "cell_type": "markdown",
      "metadata": {
        "id": "knkNkTaPtL4T"
      },
      "source": [
        "### standardizing"
      ]
    },
    {
      "cell_type": "code",
      "execution_count": 15,
      "metadata": {
        "colab": {
          "base_uri": "https://localhost:8080/"
        },
        "id": "WrdSk6-DtL4T",
        "outputId": "ae7c3bda-6784-4f19-e497-3b7e0c941a72"
      },
      "outputs": [
        {
          "output_type": "stream",
          "name": "stdout",
          "text": [
            "0.9717217942267801\n",
            "0.6482032533127501\n",
            "-0.6195380058503674\n",
            "-1.228956652688424\n",
            "-0.28097209094033604\n",
            "-0.6797275018343729\n",
            "0.7460111842867592\n",
            "-1.0634355387324086\n",
            "-0.40887476990634786\n",
            "-0.010119359012310937\n",
            "1.2124797781628023\n",
            "-0.3035431519343381\n",
            "-1.142434252211416\n",
            "0.6406795663147493\n",
            "0.12154516345270126\n",
            "-1.2590514006804265\n",
            "1.220003465160803\n",
            "1.4946180405878284\n",
            "0.8438191152607681\n",
            "1.1899087171688003\n",
            "-1.037102634239406\n",
            "0.5428716353407403\n",
            "1.178623186671799\n",
            "0.36982683438672426\n",
            "-0.4276839874013496\n",
            "-1.8233279255304788\n",
            "-0.5706340403633628\n",
            "0.09521225895969881\n",
            "1.2312889956578041\n",
            "1.434428544603823\n",
            "-0.40887476990634786\n",
            "1.0507205077057873\n",
            "-1.2251948091894236\n",
            "0.8250098977657664\n",
            "-0.1380220379783228\n",
            "-2.150608309943509\n",
            "0.5052532003507368\n",
            "-0.7022985628283751\n",
            "0.9002467677457734\n",
            "0.3096373384027187\n",
            "-2.199512275430514\n",
            "-0.34492343042334195\n",
            "1.0620060382027885\n",
            "-1.285384305173429\n",
            "-0.9806749817544008\n",
            "1.0695297252007891\n",
            "-1.4847620106204475\n",
            "-0.06654701149731616\n",
            "-1.304193522668431\n",
            "1.4381903881028233\n",
            "0.8174862107677657\n",
            "-0.517968231377358\n",
            "-1.9023266390094862\n",
            "-0.9994841992494026\n",
            "-0.2922576214373371\n",
            "1.3065258656378111\n",
            "-1.7932331775384762\n",
            "-0.1304983509803221\n",
            "0.4563492348637323\n",
            "-0.14554572497632348\n",
            "0.8588664892567696\n",
            "-0.17187862946932592\n",
            "1.4231430141068218\n",
            "0.06511751096769604\n",
            "0.008689858482690806\n",
            "-0.529253761874359\n",
            "0.038784606474693596\n",
            "-0.7549643718143799\n",
            "-0.03645226350531338\n",
            "-1.112339504219413\n",
            "-1.4922856976184482\n",
            "-1.4998093846164489\n",
            "0.10273594595769951\n",
            "0.26825705991371485\n",
            "-0.40887476990634786\n",
            "-1.8647082040194827\n",
            "0.6482032533127501\n",
            "1.0958626296937914\n",
            "1.2689074306478076\n",
            "0.9641981072287793\n",
            "1.1748613431727988\n",
            "1.2689074306478076\n",
            "-0.16811678597032556\n",
            "-0.7323933108203778\n",
            "0.4488255478657316\n",
            "-1.165005313205418\n",
            "0.8513428022587689\n",
            "0.9905310117217818\n",
            "1.1635758126757978\n",
            "0.016213545480691503\n",
            "1.370477205120817\n",
            "-0.02140488950931198\n",
            "-0.5066827008803569\n",
            "0.2795425904107159\n",
            "1.543522006074833\n",
            "1.2463363696538055\n",
            "0.7798677757777622\n",
            "-1.8948029520114855\n",
            "0.10273594595769951\n",
            "-0.37501817841534474\n"
          ]
        }
      ],
      "source": [
        "for x in salaries:\n",
        "    print((x-mean(salaries))/stdev(salaries))"
      ]
    },
    {
      "cell_type": "markdown",
      "metadata": {
        "id": "axC8RKyOtL4T"
      },
      "source": [
        "## Exercise 8: Calculating covariance and correlation\n",
        "### covariance"
      ]
    },
    {
      "cell_type": "code",
      "execution_count": null,
      "metadata": {
        "id": "BKxPV7VCtL4T"
      },
      "outputs": [],
      "source": []
    },
    {
      "cell_type": "markdown",
      "metadata": {
        "id": "B4sp8y24tL4T"
      },
      "source": [
        "### Pearson correlation coefficient ($\\rho$)"
      ]
    },
    {
      "cell_type": "code",
      "execution_count": null,
      "metadata": {
        "id": "Ks2L3W3TtL4T"
      },
      "outputs": [],
      "source": []
    }
  ],
  "metadata": {
    "kernelspec": {
      "display_name": "Python 3 (ipykernel)",
      "language": "python",
      "name": "python3"
    },
    "language_info": {
      "codemirror_mode": {
        "name": "ipython",
        "version": 3
      },
      "file_extension": ".py",
      "mimetype": "text/x-python",
      "name": "python",
      "nbconvert_exporter": "python",
      "pygments_lexer": "ipython3",
      "version": "3.9.16"
    },
    "colab": {
      "provenance": []
    }
  },
  "nbformat": 4,
  "nbformat_minor": 0
}